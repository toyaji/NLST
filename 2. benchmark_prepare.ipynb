{
 "cells": [
  {
   "cell_type": "code",
   "execution_count": 1,
   "source": [
    "import cv2\r\n",
    "import numpy as np\r\n",
    "from PIL import Image\r\n",
    "from pathlib import Path\r\n",
    "from matplotlib import pyplot as plt\r\n",
    "from data import common"
   ],
   "outputs": [],
   "metadata": {}
  },
  {
   "cell_type": "code",
   "execution_count": 2,
   "source": [
    "def imshows(ims, figsize=None, titles=[]):\r\n",
    "    figsize = figsize or (len(ims) * 6, 4)\r\n",
    "    plt.figure(figsize=figsize)\r\n",
    "    for i, im in enumerate(ims):\r\n",
    "        plt.subplot(1, len(ims), i + 1)\r\n",
    "        plt.imshow(im)\r\n",
    "        if len(titles) > i:\r\n",
    "            plt.title(titles[i])\r\n",
    "    plt.tight_layout()\r\n",
    "    plt.show()"
   ],
   "outputs": [],
   "metadata": {}
  },
  {
   "cell_type": "code",
   "execution_count": 3,
   "source": [
    "base = Path(\"dataset/benchmark\")"
   ],
   "outputs": [],
   "metadata": {}
  },
  {
   "cell_type": "code",
   "execution_count": 4,
   "source": [
    "list(base.glob(\"*\"))"
   ],
   "outputs": [
    {
     "output_type": "execute_result",
     "data": {
      "text/plain": [
       "[WindowsPath('dataset/benchmark/BSD100'),\n",
       " WindowsPath('dataset/benchmark/Manga109'),\n",
       " WindowsPath('dataset/benchmark/Set14'),\n",
       " WindowsPath('dataset/benchmark/Set5'),\n",
       " WindowsPath('dataset/benchmark/Urban100')]"
      ]
     },
     "metadata": {},
     "execution_count": 4
    }
   ],
   "metadata": {}
  },
  {
   "cell_type": "markdown",
   "source": [
    "First, we need to crop the HR image into the size having a common multiplier of 2, 3, 4. If you don't adjust HR into this way it is hard to make pixel to pixel matching of HR-LR pair for all resized images of x2, x3, x4."
   ],
   "metadata": {}
  },
  {
   "cell_type": "code",
   "execution_count": 5,
   "source": [
    "for data in base.glob(\"*\"):\r\n",
    "\r\n",
    "    save_path = data / \"HR\"\r\n",
    "    save_path.mkdir(exist_ok=True)\r\n",
    "\r\n",
    "\r\n",
    "    for p in data.glob(\"*\"):\r\n",
    "        try:\r\n",
    "            img = cv2.imread(str(p))\r\n",
    "            h, w, c = img.shape\r\n",
    "\r\n",
    "            ix, iy = int(h/12) * 6, int(w/12) * 6\r\n",
    "            cx, cy = int(h/2), int(w/2)\r\n",
    "            img = img[cx - ix:cx + ix, cy - iy:cy + iy, :]\r\n",
    "\r\n",
    "            cv2.imwrite(str(save_path / p.name), img)\r\n",
    "        except Exception as e:\r\n",
    "            print(data.name, p.name, e)\r\n",
    "        finally:\r\n",
    "            pass"
   ],
   "outputs": [
    {
     "output_type": "stream",
     "name": "stdout",
     "text": [
      "BSD100 HR 'NoneType' object has no attribute 'shape'\n",
      "Manga109 HR 'NoneType' object has no attribute 'shape'\n",
      "Set14 HR 'NoneType' object has no attribute 'shape'\n",
      "Set5 HR 'NoneType' object has no attribute 'shape'\n",
      "Urban100 HR 'NoneType' object has no attribute 'shape'\n"
     ]
    }
   ],
   "metadata": {}
  },
  {
   "cell_type": "code",
   "execution_count": 17,
   "source": [
    "for data in (base).glob(\"*\"):\r\n",
    "    \r\n",
    "    source_path = data / \"HR\"\r\n",
    "    save_path = data / \"LR_bicubic\"\r\n",
    "    save_path.mkdir(exist_ok=True)\r\n",
    "\r\n",
    "\r\n",
    "    for p in source_path.glob(\"*\"):\r\n",
    "        try:\r\n",
    "            img = cv2.imread(str(p))\r\n",
    "            h, w, c = img.shape\r\n",
    "\r\n",
    "            for scale in [2, 3, 4]:\r\n",
    "                ch, cw = int(h/scale), int(w/scale)\r\n",
    "                assert ch*scale == h and ch*scale == h, \"Scale error!\"\r\n",
    "                img = cv2.resize(img, dsize=(cw, ch), interpolation=cv2.INTER_CUBIC)\r\n",
    "\r\n",
    "                target_path = save_path / \"x{:1d}\".format(scale)\r\n",
    "                target_path.mkdir(exist_ok=True)\r\n",
    "                name = target_path / \"{}x{:1d}{}\".format(p.stem, scale, p.suffix)\r\n",
    "                cv2.imwrite(str(name), img)\r\n",
    "        except Exception as e:\r\n",
    "            print(data.name, p.name, e)\r\n",
    "        finally:\r\n",
    "            pass"
   ],
   "outputs": [],
   "metadata": {}
  },
  {
   "cell_type": "markdown",
   "source": [
    "Let's check benchmark dataset's rgb_range. It's is helpful for dataloader setting"
   ],
   "metadata": {}
  },
  {
   "cell_type": "code",
   "execution_count": 16,
   "source": [
    "for data in base.glob(\"*\"):\r\n",
    "    path = list((data / \"HR\").glob(\"*\"))[0]\r\n",
    "    img = cv2.imread(str(path))\r\n",
    "    rgb_range = 255 if img.max() > 230 else 1\r\n",
    "    print(\"{:10s} has {} color channel and rgb range max is {}. File extention is {}.\".format(data.name, img.shape[-1], rgb_range, path.suffix))"
   ],
   "outputs": [
    {
     "output_type": "stream",
     "name": "stdout",
     "text": [
      "BSD100     has 3 color channel and rgb range max is 255. File extention is .png.\n",
      "Manga109   has 3 color channel and rgb range max is 255. File extention is .png.\n",
      "Set14      has 3 color channel and rgb range max is 255. File extention is .png.\n",
      "Set5       has 3 color channel and rgb range max is 255. File extention is .png.\n",
      "Urban100   has 3 color channel and rgb range max is 255. File extention is .png.\n"
     ]
    }
   ],
   "metadata": {}
  },
  {
   "cell_type": "markdown",
   "source": [
    "Following lines for BSD500 data prepare"
   ],
   "metadata": {}
  },
  {
   "cell_type": "code",
   "execution_count": 18,
   "source": [
    "base = Path(\"dataset/BSD500\")\r\n",
    "base.exists()"
   ],
   "outputs": [
    {
     "output_type": "execute_result",
     "data": {
      "text/plain": [
       "True"
      ]
     },
     "metadata": {},
     "execution_count": 18
    }
   ],
   "metadata": {}
  },
  {
   "cell_type": "code",
   "execution_count": 19,
   "source": [
    "for data in base.glob(\"*\"):\r\n",
    "\r\n",
    "    save_path = data / \"HR\"\r\n",
    "    save_path.mkdir(exist_ok=True)\r\n",
    "\r\n",
    "\r\n",
    "    for p in data.glob(\"*.JPG\"):\r\n",
    "        try:\r\n",
    "            img = cv2.imread(str(p))\r\n",
    "            h, w, c = img.shape\r\n",
    "\r\n",
    "            ix, iy = int(h/12) * 6, int(w/12) * 6\r\n",
    "            cx, cy = int(h/2), int(w/2)\r\n",
    "            img = img[cx - ix:cx + ix, cy - iy:cy + iy, :]\r\n",
    "\r\n",
    "            cv2.imwrite(str(save_path / p.name), img)\r\n",
    "        except Exception as e:\r\n",
    "            print(data.name, p.name, e)\r\n",
    "        finally:\r\n",
    "            pass"
   ],
   "outputs": [],
   "metadata": {}
  },
  {
   "cell_type": "code",
   "execution_count": 20,
   "source": [
    "for data in base.glob(\"*\"):\r\n",
    "    \r\n",
    "    source_path = data / \"HR\"\r\n",
    "    save_path = data / \"LR_bicubic\"\r\n",
    "    save_path.mkdir(exist_ok=True)\r\n",
    "\r\n",
    "\r\n",
    "    for p in source_path.glob(\"*.JPG\"):\r\n",
    "        try:\r\n",
    "            img = cv2.imread(str(p))\r\n",
    "            h, w, c = img.shape\r\n",
    "\r\n",
    "            for scale in [2, 3, 4]:\r\n",
    "                ch, cw = int(h/scale), int(w/scale)\r\n",
    "                assert ch*scale == h and ch*scale == h, \"Scale error!\"\r\n",
    "                img = cv2.resize(img, dsize=(cw, ch), interpolation=cv2.INTER_CUBIC)\r\n",
    "\r\n",
    "                target_path = save_path / \"x{:1d}\".format(scale)\r\n",
    "                target_path.mkdir(exist_ok=True)\r\n",
    "                name = target_path / \"{}x{:1d}{}\".format(p.stem, scale, p.suffix)\r\n",
    "                cv2.imwrite(str(name), img)\r\n",
    "        except Exception as e:\r\n",
    "            print(data.name, p.name, e)\r\n",
    "        finally:\r\n",
    "            pass"
   ],
   "outputs": [],
   "metadata": {}
  },
  {
   "cell_type": "code",
   "execution_count": null,
   "source": [],
   "outputs": [],
   "metadata": {}
  }
 ],
 "metadata": {
  "orig_nbformat": 4,
  "language_info": {
   "name": "python",
   "version": "3.8.0",
   "mimetype": "text/x-python",
   "codemirror_mode": {
    "name": "ipython",
    "version": 3
   },
   "pygments_lexer": "ipython3",
   "nbconvert_exporter": "python",
   "file_extension": ".py"
  },
  "kernelspec": {
   "name": "python3",
   "display_name": "Python 3.8.0 64-bit ('torch_han': conda)"
  },
  "interpreter": {
   "hash": "86cf0c17263c0cdfb626d628ff47d5f3458b98a9629a3fad50c59b4bc88611f6"
  }
 },
 "nbformat": 4,
 "nbformat_minor": 2
}